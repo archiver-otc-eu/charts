{
 "cells": [
  {
   "cell_type": "code",
   "execution_count": 12,
   "metadata": {},
   "outputs": [
    {
     "data": {
      "text/plain": [
       "['image_0022.jpg',\n",
       " 'image_0058.jpg',\n",
       " 'image_0025.jpg',\n",
       " 'image_0005.jpg',\n",
       " 'image_0002.jpg',\n",
       " 'image_0068.jpg',\n",
       " 'image_0013.jpg',\n",
       " 'image_0054.jpg',\n",
       " 'image_0059.jpg',\n",
       " 'image_0045.jpg',\n",
       " 'image_0008.jpg',\n",
       " 'image_0034.jpg',\n",
       " 'image_0080.jpg',\n",
       " 'image_0079.jpg',\n",
       " 'image_0083.jpg',\n",
       " 'image_0006.jpg',\n",
       " 'image_0085.jpg',\n",
       " 'image_0018.jpg',\n",
       " 'image_0049.jpg',\n",
       " 'image_0020.jpg',\n",
       " 'image_0061.jpg',\n",
       " 'image_0021.jpg',\n",
       " 'image_0038.jpg',\n",
       " 'image_0065.jpg',\n",
       " 'image_0048.jpg',\n",
       " 'image_0003.jpg',\n",
       " 'image_0072.jpg',\n",
       " 'image_0092.jpg',\n",
       " 'image_0024.jpg',\n",
       " 'image_0055.jpg',\n",
       " 'image_0010.jpg',\n",
       " 'image_0004.jpg',\n",
       " 'image_0089.jpg',\n",
       " 'image_0032.jpg',\n",
       " 'image_0084.jpg',\n",
       " 'image_0081.jpg',\n",
       " 'image_0088.jpg',\n",
       " 'image_0069.jpg',\n",
       " 'image_0095.jpg',\n",
       " 'image_0007.jpg',\n",
       " 'image_0091.jpg',\n",
       " 'image_0026.jpg',\n",
       " 'image_0042.jpg',\n",
       " 'image_0073.jpg',\n",
       " 'image_0028.jpg',\n",
       " 'image_0019.jpg',\n",
       " 'image_0016.jpg',\n",
       " 'image_0062.jpg',\n",
       " 'image_0060.jpg',\n",
       " 'image_0041.jpg',\n",
       " 'image_0012.jpg',\n",
       " 'image_0046.jpg',\n",
       " 'image_0040.jpg',\n",
       " 'image_0098.jpg',\n",
       " 'image_0076.jpg',\n",
       " 'image_0031.jpg',\n",
       " 'image_0030.jpg',\n",
       " 'image_0066.jpg',\n",
       " 'image_0074.jpg',\n",
       " 'image_0082.jpg',\n",
       " 'image_0053.jpg',\n",
       " 'image_0093.jpg',\n",
       " 'image_0052.jpg',\n",
       " 'image_0017.jpg',\n",
       " 'image_0044.jpg',\n",
       " 'image_0001.jpg',\n",
       " 'image_0023.jpg',\n",
       " 'image_0090.jpg',\n",
       " 'image_0029.jpg',\n",
       " 'image_0037.jpg',\n",
       " 'image_0064.jpg',\n",
       " 'image_0033.jpg',\n",
       " 'image_0071.jpg',\n",
       " 'image_0009.jpg',\n",
       " 'image_0057.jpg',\n",
       " 'image_0067.jpg',\n",
       " 'image_0063.jpg',\n",
       " 'image_0035.jpg',\n",
       " 'image_0050.jpg',\n",
       " 'image_0070.jpg',\n",
       " 'image_0047.jpg',\n",
       " 'image_0096.jpg',\n",
       " 'image_0036.jpg',\n",
       " 'image_0094.jpg',\n",
       " 'image_0087.jpg',\n",
       " 'image_0086.jpg',\n",
       " 'image_0078.jpg',\n",
       " 'image_0039.jpg',\n",
       " 'image_0075.jpg',\n",
       " 'image_0097.jpg',\n",
       " 'image_0077.jpg',\n",
       " 'image_0027.jpg',\n",
       " 'image_0043.jpg',\n",
       " 'image_0015.jpg',\n",
       " 'image_0051.jpg',\n",
       " 'image_0099.jpg',\n",
       " 'image_0011.jpg',\n",
       " 'image_0056.jpg',\n",
       " 'image_0014.jpg']"
      ]
     },
     "execution_count": 12,
     "metadata": {},
     "output_type": "execute_result"
    }
   ],
   "source": [
    "# This cell downloads a dataset needed for a demo to a local filesystem and used onedata-fs to copy it onto a space.\n",
    "# This cell should be run once before a demo as a data preparation job.\n",
    "import sys, os, fs, subprocess\n",
    "from fs.onedatafs import OnedataFS\n",
    "from fs.copy import copy_fs\n",
    "from fs.osfs import OSFS\n",
    "\n",
    "os.listdir(\"/\")\n",
    "\n",
    "# Get data from my dropbox account\n",
    "subprocess.call(['curl', '-L', '-o', 'data.tgz', 'https://www.dropbox.com/s/2toa3ymec6alrr8/oxford-flower-dataset.tgz?dl=1'])\n",
    "os.listdir(\".\")\n",
    "subprocess.call(['tar', 'zxvf', 'data.tgz'])\n",
    "os.listdir(\".\")\n",
    "dataset=\"oxford-flower-dataset\"\n",
    "os.listdir(dataset)\n",
    "\n",
    "# Get configuration from the environment\n",
    "spaceName=os.environ['SPACE_NAME']\n",
    "token=os.environ['ONECLIENT_ACCESS_TOKEN']\n",
    "provider=os.environ['ONECLIENT_PROVIDER_HOST']\n",
    "insecure=os.environ['ONECLIENT_INSECURE']\n",
    "\n",
    "# Connect to Oneprovider\n",
    "odfs = OnedataFS(provider, token, insecure=True, force_proxy_io=True)\n",
    "space = odfs.opendir('/{}'.format(spaceName))\n",
    "\n",
    "# Copy data to a space\n",
    "current_directory_fs = OSFS(\"./oxford-flower-dataset\")\n",
    "root_target_dir = space.makedir('oxford-flower-dataset')\n",
    "copy_fs(current_directory_fs, root_target_dir)\n",
    "root_target_dir.listdir('.')"
   ]
  },
  {
   "cell_type": "code",
   "execution_count": 13,
   "metadata": {},
   "outputs": [],
   "source": [
    "# Initialize OnedataFS plugin \n",
    "import sys\n",
    "import matplotlib.pyplot as plt\n",
    "from PIL import Image\n",
    "import io\n",
    "import os\n",
    "from fs.onedatafs import OnedataFS"
   ]
  },
  {
   "cell_type": "code",
   "execution_count": 14,
   "metadata": {},
   "outputs": [
    {
     "name": "stdout",
     "output_type": "stream",
     "text": [
      "Space name: krk-p\n",
      "Authentication token: MDAzN2xvY2F00aW9uIHIxOTAyLW9uZXpvbmUucjE5MDIuc3ZjLmRldi5vbmVkYXRhLnVrLnRvCjAwMzBpZGVudGlmaWVyIGM00Zjg5ZTJiMDNkYjMyOTQyMjI1MmUyYTI5YjkwZjdmCjAwMWFjaWQgdGltZSA8IDE1OTUzNDEwODQKMDAyZnNpZ25hdHVyZSBhB24tLmZg72R00w02FeaoatCjhFP2KXQGp1p01SiPxypkAo\n",
      "Oneprovider address: r1902-oneprovider-krakow\n"
     ]
    }
   ],
   "source": [
    "# Get configuration from the environment\n",
    "spaceName=os.environ['SPACE_NAME']\n",
    "token=os.environ['ONECLIENT_ACCESS_TOKEN']\n",
    "provider=os.environ['ONECLIENT_PROVIDER_HOST']\n",
    "insecure=os.environ['ONECLIENT_INSECURE']\n",
    "\n",
    "print(\"Space name: {}\".format(spaceName))\n",
    "print(\"Authentication token: {}\".format(token))\n",
    "print(\"Oneprovider address: {}\".format(provider))"
   ]
  },
  {
   "cell_type": "code",
   "execution_count": 15,
   "metadata": {},
   "outputs": [],
   "source": [
    "# Connect to Oneprovider\n",
    "odfs = OnedataFS(provider, token, insecure=True, force_proxy_io=True)"
   ]
  },
  {
   "cell_type": "code",
   "execution_count": 16,
   "metadata": {},
   "outputs": [
    {
     "data": {
      "text/plain": [
       "['oxford-flower-dataset', 'thumbnail-demo.ipynb']"
      ]
     },
     "execution_count": 16,
     "metadata": {},
     "output_type": "execute_result"
    }
   ],
   "source": [
    "# Open selected space DemoWeek and list its contents\n",
    "space = odfs.opendir('/{}'.format(spaceName))\n",
    "space.listdir('/')"
   ]
  },
  {
   "cell_type": "code",
   "execution_count": null,
   "metadata": {},
   "outputs": [],
   "source": [
    "# Open and display single image\n",
    "i000 = space.opendir('oxford-flower-dataset/')\n",
    "i1 = i000.openbin('image_0001.jpg', 'r')"
   ]
  },
  {
   "cell_type": "code",
   "execution_count": null,
   "metadata": {},
   "outputs": [],
   "source": [
    "# Show file blocks at Oneprovider (should be empty - not replicated yet)\n",
    "space.location('oxford-flower-dataset/image_0001.jpg') "
   ]
  },
  {
   "cell_type": "code",
   "execution_count": null,
   "metadata": {},
   "outputs": [],
   "source": [
    "# Create instance of Pillow Image from image bytes\n",
    "im1 = Image.open(i1)\n",
    "plt.imshow(im1) "
   ]
  },
  {
   "cell_type": "code",
   "execution_count": null,
   "metadata": {},
   "outputs": [],
   "source": [
    "# Show file blocks (should be completely replicated)\n",
    "space.location('oxford-flower-dataset/image_0001.jpg')"
   ]
  },
  {
   "cell_type": "code",
   "execution_count": null,
   "metadata": {},
   "outputs": [],
   "source": [
    "# Close the image file\n",
    "i1.close() "
   ]
  },
  {
   "cell_type": "code",
   "execution_count": null,
   "metadata": {},
   "outputs": [],
   "source": [
    "# Generate list of a subset of images paths\n",
    "image_paths = [img.path for img in space.glob(\"**/oxford-flower-dataset/*.jpg\")]\n",
    "image_paths"
   ]
  },
  {
   "cell_type": "code",
   "execution_count": null,
   "metadata": {},
   "outputs": [],
   "source": [
    "# Open selected images as Pillow Image objects \n",
    "images = [Image.open(space.openbin(path)) for path in image_paths]\n",
    "images[0]\n",
    "len(images)"
   ]
  },
  {
   "cell_type": "code",
   "execution_count": null,
   "metadata": {},
   "outputs": [],
   "source": [
    "# Create target thumbnail composite image\n",
    "result_size = 1000\n",
    "result = Image.new(\"RGB\", (result_size, result_size))"
   ]
  },
  {
   "cell_type": "code",
   "execution_count": null,
   "metadata": {},
   "outputs": [],
   "source": [
    "# Paste thumbnails of images into target image\n",
    "i = 0\n",
    "j = 0\n",
    "for img in images: \n",
    "    img.thumbnail((100, 100), Image.ANTIALIAS)\n",
    "    w, h = img.size\n",
    "    print('Adding thumbnail at {0},{1}'.format(i, j, w, h))\n",
    "    result.paste(img, (i, j, i + w, j + h))\n",
    "    i += 100\n",
    "    if i >= result_size:\n",
    "        i = 0\n",
    "        j += 100"
   ]
  },
  {
   "cell_type": "code",
   "execution_count": null,
   "metadata": {},
   "outputs": [],
   "source": [
    "# Show thumbnail image\n",
    "plt.imshow(result)"
   ]
  },
  {
   "cell_type": "code",
   "execution_count": null,
   "metadata": {},
   "outputs": [],
   "source": [
    "# Close source images\n",
    "[img.close() for img in images]"
   ]
  },
  {
   "cell_type": "code",
   "execution_count": null,
   "metadata": {},
   "outputs": [],
   "source": [
    "# Write result to file in DemoWeek space\n",
    "space.create(\"thumbnails.png\")\n",
    "fresult = space.openbin(\"thumbnails.png\", \"rw+\")\n",
    "result_bytes = io.BytesIO()\n",
    "result.save(result_bytes, format='PNG')\n",
    "fresult.write(result_bytes.getvalue())\n",
    "fresult.close()"
   ]
  }
 ],
 "metadata": {
  "kernelspec": {
   "display_name": "Python 3",
   "language": "python",
   "name": "python3"
  },
  "language_info": {
   "codemirror_mode": {
    "name": "ipython",
    "version": 3
   },
   "file_extension": ".py",
   "mimetype": "text/x-python",
   "name": "python",
   "nbconvert_exporter": "python",
   "pygments_lexer": "ipython3",
   "version": "3.6.8"
  }
 },
 "nbformat": 4,
 "nbformat_minor": 2
}